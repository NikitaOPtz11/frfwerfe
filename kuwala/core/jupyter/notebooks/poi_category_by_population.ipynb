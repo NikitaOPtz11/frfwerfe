{
 "cells": [
  {
   "cell_type": "markdown",
   "metadata": {
    "pycharm": {
     "name": "#%% md\n"
    }
   },
   "source": [
    "# POI Category by Population\n",
    "\n",
    "With this example, you can simply select a POI category and get a score weighted by the population indicating how high\n",
    "the density of the POI category is in a specific region relative to its population.\n",
    "\n",
    "## 1. Set Parameters\n",
    "\n",
    "1. Set the H3 resolution to aggregate the results on.\n",
    "\n",
    "    To see the average size of a hexagon at a given resolution go to the\n",
    "    [official H3 documentation](https://h3geo.org/docs/core-library/restable). The currently set resolution 8 has on\n",
    "    average an edge length of 0.46 km which can be freely interpreted as a radius."
   ]
  },
  {
   "cell_type": "code",
   "execution_count": null,
   "metadata": {
    "pycharm": {
     "name": "#%%\n"
    }
   },
   "outputs": [],
   "source": [
    "resolution = 8"
   ]
  },
  {
   "cell_type": "markdown",
   "metadata": {
    "pycharm": {
     "name": "#%% md\n"
    }
   },
   "source": [
    "2. These are the current 24 high-level categories for POIs:\n",
    "\n",
    "    ```zsh\n",
    "    administration, airport, apartment, art_culture, automobile, beauty, cafe, drinks, education, entertainment, food, groceries, medical, misc, office, public_service, public_transportation, recreation, religious_building, service, shopping, social_service, sport, tourism, wholesaler\n",
    "    ```"
   ]
  },
  {
   "cell_type": "code",
   "execution_count": null,
   "metadata": {
    "pycharm": {
     "name": "#%%\n"
    }
   },
   "outputs": [],
   "source": [
    "category = 'groceries'"
   ]
  },
  {
   "cell_type": "markdown",
   "metadata": {
    "pycharm": {
     "name": "#%% md\n"
    }
   },
   "source": [
    "3. Set per how many citizens you want to weight the POI count for a given category."
   ]
  },
  {
   "cell_type": "code",
   "execution_count": null,
   "metadata": {
    "pycharm": {
     "name": "#%%\n"
    }
   },
   "outputs": [],
   "source": [
    "per_x_citizens = 1000"
   ]
  },
  {
   "cell_type": "markdown",
   "metadata": {
    "pycharm": {
     "name": "#%% md\n"
    }
   },
   "source": [
    "4. You can provide polygons as GeoJSONs to select a subregion. Otherwise, data form the entire database will be\n",
    "analyzed. (The default GeoJSON is a rough representation of Lisbon, Portugal.)"
   ]
  },
  {
   "cell_type": "code",
   "execution_count": null,
   "metadata": {
    "pycharm": {
     "name": "#%%\n"
    }
   },
   "outputs": [],
   "source": [
    "polygon_coords = '[[[-9.092559814453125,38.794500078219826],[-9.164314270019531,38.793429729760994],[-9.217529296875,38.76666579487878],[-9.216842651367188,38.68792166352608],[-9.12139892578125,38.70399894245585],[-9.0911865234375,38.74551518488265],[-9.092559814453125,38.794500078219826]]]'"
   ]
  },
  {
   "cell_type": "markdown",
   "metadata": {},
   "source": [
    "## 2. Send Queries\n",
    "\n",
    "#### Initialize dbt controller"
   ]
  },
  {
   "cell_type": "code",
   "execution_count": null,
   "metadata": {
    "jupyter": {
     "outputs_hidden": false
    },
    "pycharm": {
     "name": "#%%\n"
    }
   },
   "outputs": [],
   "source": [
    "from kuwala.modules.common import get_dbt_controller\n",
    "\n",
    "dbt_controller = get_dbt_controller()"
   ]
  },
  {
   "cell_type": "markdown",
   "metadata": {
    "pycharm": {
     "name": "#%% md\n"
    }
   },
   "source": [
    "#### Get population per hexagon."
   ]
  },
  {
   "cell_type": "code",
   "execution_count": null,
   "metadata": {
    "pycharm": {
     "name": "#%%\n"
    }
   },
   "outputs": [],
   "source": [
    "from kuwala.modules.population_controller import get_population_in_polygon\n",
    "\n",
    "population = get_population_in_polygon(dbt_controller=dbt_controller, resolution=resolution, polygon_coords=polygon_coords)\n",
    "\n",
    "population.head(10)"
   ]
  },
  {
   "cell_type": "markdown",
   "metadata": {
    "pycharm": {
     "name": "#%% md\n"
    }
   },
   "source": [
    "#### Get number of POIs belonging to a selected category per hexagon."
   ]
  },
  {
   "cell_type": "code",
   "execution_count": null,
   "metadata": {
    "pycharm": {
     "name": "#%%\n"
    }
   },
   "outputs": [],
   "source": [
    "from kuwala.modules.poi_controller import get_pois_by_category_in_polygon\n",
    "\n",
    "pois = get_pois_by_category_in_polygon(dbt_controller=dbt_controller, category=category, resolution=resolution, polygon_coords=polygon_coords)\n",
    "\n",
    "pois.head(n=10)"
   ]
  },
  {
   "cell_type": "markdown",
   "metadata": {
    "pycharm": {
     "name": "#%% md\n"
    }
   },
   "source": [
    "## 3. Transform the Data\n",
    "\n",
    "#### Create a Spark session."
   ]
  },
  {
   "cell_type": "code",
   "execution_count": null,
   "metadata": {
    "jupyter": {
     "outputs_hidden": false
    },
    "pycharm": {
     "name": "#%%\n"
    }
   },
   "outputs": [],
   "source": [
    "from kuwala.modules.common import get_spark_session\n",
    "\n",
    "sp = get_spark_session(memory_in_gb=16)"
   ]
  },
  {
   "cell_type": "markdown",
   "metadata": {
    "pycharm": {
     "name": "#%% md\n"
    }
   },
   "source": [
    "#### Calculate number of POIs per x citizens"
   ]
  },
  {
   "cell_type": "code",
   "execution_count": null,
   "metadata": {
    "pycharm": {
     "name": "#%%\n"
    }
   },
   "outputs": [],
   "source": [
    "from pyspark.sql.functions import col\n",
    "\n",
    "number_of_pois_in_category = f'number_of_{category}'\n",
    "category_per_x = f'{category}_per_{per_x_citizens}'\n",
    "population_in_x = f'population_in_{per_x_citizens}'\n",
    "\n",
    "pois = sp.createDataFrame(pois)\n",
    "population = sp.createDataFrame(population)\n",
    "pois = pois.withColumnRenamed('h3_index', 'join_h3_index').withColumnRenamed('count', number_of_pois_in_category)\n",
    "population = population \\\n",
    "    .withColumn(population_in_x, col('total') / per_x_citizens) \\\n",
    "    .select('h3_index', population_in_x)\n",
    "result = population \\\n",
    "    .join(pois, population.h3_index == pois.join_h3_index, 'left') \\\n",
    "    .drop('join_h3_index') \\\n",
    "    .fillna(0, subset=[number_of_pois_in_category]) \\\n",
    "    .withColumn(category_per_x, col(number_of_pois_in_category) / col(population_in_x)) \\\n",
    "    .fillna(0, subset=[category_per_x])\n",
    "\n",
    "result.show(n=10)"
   ]
  },
  {
   "cell_type": "markdown",
   "metadata": {
    "pycharm": {
     "name": "#%% md\n"
    }
   },
   "source": [
    "#### Normalize the score"
   ]
  },
  {
   "cell_type": "code",
   "execution_count": null,
   "metadata": {
    "pycharm": {
     "name": "#%%\n"
    }
   },
   "outputs": [],
   "source": [
    "from kuwala.modules.common import scale_spark_columns\n",
    "\n",
    "result = scale_spark_columns(df=result, columns=[category_per_x]) \\\n",
    "    .select('h3_index', f'{category_per_x}_scaled', category_per_x, number_of_pois_in_category, population_in_x)\n",
    "\n",
    "result.show(n=10)"
   ]
  },
  {
   "cell_type": "markdown",
   "metadata": {
    "pycharm": {
     "name": "#%% md\n"
    }
   },
   "source": [
    "## 4. Visualize Results\n",
    "\n",
    "#### Pandas Profiling Report"
   ]
  },
  {
   "cell_type": "code",
   "execution_count": null,
   "metadata": {
    "pycharm": {
     "name": "#%%\n"
    }
   },
   "outputs": [],
   "source": [
    "from pandas_profiling import ProfileReport\n",
    "\n",
    "result_pd = result.toPandas()\n",
    "profile = ProfileReport(result_pd, title=\"Pandas Profiling Report\", explorative=True)\n",
    "\n",
    "profile.to_notebook_iframe()"
   ]
  },
  {
   "cell_type": "markdown",
   "metadata": {
    "pycharm": {
     "name": "#%% md\n"
    }
   },
   "source": [
    "#### Map"
   ]
  },
  {
   "cell_type": "code",
   "execution_count": null,
   "metadata": {
    "pycharm": {
     "name": "#%%\n"
    }
   },
   "outputs": [],
   "source": [
    "from unfolded.map_sdk import UnfoldedMap\n",
    "from sidecar import Sidecar\n",
    "from uuid import uuid4\n",
    "\n",
    "unfolded_map = UnfoldedMap()\n",
    "sc = Sidecar(title=f'{category} by Population', anchor='split-right')\n",
    "\n",
    "with sc:\n",
    "    display(unfolded_map)\n",
    "\n",
    "dataset_id=uuid4()\n",
    "\n",
    "unfolded_map.add_dataset({\n",
    "    'uuid': dataset_id,\n",
    "    'label': f'{category} per thousand citizens',\n",
    "    'data': result_pd\n",
    "})"
   ]
  }
 ],
 "metadata": {
  "kernelspec": {
   "display_name": "Python 3 (ipykernel)",
   "language": "python",
   "name": "python3"
  },
  "language_info": {
   "codemirror_mode": {
    "name": "ipython",
    "version": 3
   },
   "file_extension": ".py",
   "mimetype": "text/x-python",
   "name": "python",
   "nbconvert_exporter": "python",
   "pygments_lexer": "ipython3",
   "version": "3.9.7"
  }
 },
 "nbformat": 4,
 "nbformat_minor": 4
}
